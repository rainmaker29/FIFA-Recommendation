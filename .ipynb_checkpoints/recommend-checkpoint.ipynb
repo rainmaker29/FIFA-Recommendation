{
 "cells": [
  {
   "cell_type": "code",
   "execution_count": 2,
   "metadata": {},
   "outputs": [],
   "source": [
    "import pandas as pd\n",
    "import seaborn as sns\n",
    "import matplotlib.pyplot as plt\n"
   ]
  },
  {
   "cell_type": "code",
   "execution_count": 3,
   "metadata": {},
   "outputs": [],
   "source": [
    "df = pd.read_csv('fifa.csv')"
   ]
  },
  {
   "cell_type": "code",
   "execution_count": 20,
   "metadata": {},
   "outputs": [
    {
     "data": {
      "text/plain": [
       "Unnamed: 0                    int64\n",
       "ID                            int64\n",
       "Name                         object\n",
       "Age                           int64\n",
       "Photo                        object\n",
       "Nationality                  object\n",
       "Flag                         object\n",
       "Overall                       int64\n",
       "Potential                     int64\n",
       "Club                         object\n",
       "Club Logo                    object\n",
       "Value                        object\n",
       "Wage                         object\n",
       "Special                       int64\n",
       "Preferred Foot               object\n",
       "International Reputation    float64\n",
       "Weak Foot                   float64\n",
       "Skill Moves                 float64\n",
       "Work Rate                    object\n",
       "Body Type                    object\n",
       "Real Face                    object\n",
       "Position                     object\n",
       "Jersey Number               float64\n",
       "Joined                       object\n",
       "Loaned From                  object\n",
       "Contract Valid Until         object\n",
       "Height                       object\n",
       "Weight                       object\n",
       "LS                           object\n",
       "ST                           object\n",
       "                             ...   \n",
       "Dribbling                   float64\n",
       "Curve                       float64\n",
       "FKAccuracy                  float64\n",
       "LongPassing                 float64\n",
       "BallControl                 float64\n",
       "Acceleration                float64\n",
       "SprintSpeed                 float64\n",
       "Agility                     float64\n",
       "Reactions                   float64\n",
       "Balance                     float64\n",
       "ShotPower                   float64\n",
       "Jumping                     float64\n",
       "Stamina                     float64\n",
       "Strength                    float64\n",
       "LongShots                   float64\n",
       "Aggression                  float64\n",
       "Interceptions               float64\n",
       "Positioning                 float64\n",
       "Vision                      float64\n",
       "Penalties                   float64\n",
       "Composure                   float64\n",
       "Marking                     float64\n",
       "StandingTackle              float64\n",
       "SlidingTackle               float64\n",
       "GKDiving                    float64\n",
       "GKHandling                  float64\n",
       "GKKicking                   float64\n",
       "GKPositioning               float64\n",
       "GKReflexes                  float64\n",
       "Release Clause               object\n",
       "Length: 89, dtype: object"
      ]
     },
     "execution_count": 20,
     "metadata": {},
     "output_type": "execute_result"
    }
   ],
   "source": [
    "df.dtypes\n",
    "\n"
   ]
  },
  {
   "cell_type": "code",
   "execution_count": 11,
   "metadata": {},
   "outputs": [
    {
     "data": {
      "text/plain": [
       "['Unnamed: 0',\n",
       " 'ID',\n",
       " 'Name',\n",
       " 'Age',\n",
       " 'Photo',\n",
       " 'Nationality',\n",
       " 'Flag',\n",
       " 'Overall',\n",
       " 'Potential',\n",
       " 'Club',\n",
       " 'Club Logo',\n",
       " 'Value',\n",
       " 'Wage',\n",
       " 'Special',\n",
       " 'Preferred Foot',\n",
       " 'International Reputation',\n",
       " 'Weak Foot',\n",
       " 'Skill Moves',\n",
       " 'Work Rate',\n",
       " 'Body Type',\n",
       " 'Real Face',\n",
       " 'Position',\n",
       " 'Jersey Number',\n",
       " 'Joined',\n",
       " 'Loaned From',\n",
       " 'Contract Valid Until',\n",
       " 'Height',\n",
       " 'Weight',\n",
       " 'LS',\n",
       " 'ST',\n",
       " 'RS',\n",
       " 'LW',\n",
       " 'LF',\n",
       " 'CF',\n",
       " 'RF',\n",
       " 'RW',\n",
       " 'LAM',\n",
       " 'CAM',\n",
       " 'RAM',\n",
       " 'LM',\n",
       " 'LCM',\n",
       " 'CM',\n",
       " 'RCM',\n",
       " 'RM',\n",
       " 'LWB',\n",
       " 'LDM',\n",
       " 'CDM',\n",
       " 'RDM',\n",
       " 'RWB',\n",
       " 'LB',\n",
       " 'LCB',\n",
       " 'CB',\n",
       " 'RCB',\n",
       " 'RB',\n",
       " 'Crossing',\n",
       " 'Finishing',\n",
       " 'HeadingAccuracy',\n",
       " 'ShortPassing',\n",
       " 'Volleys',\n",
       " 'Dribbling',\n",
       " 'Curve',\n",
       " 'FKAccuracy',\n",
       " 'LongPassing',\n",
       " 'BallControl',\n",
       " 'Acceleration',\n",
       " 'SprintSpeed',\n",
       " 'Agility',\n",
       " 'Reactions',\n",
       " 'Balance',\n",
       " 'ShotPower',\n",
       " 'Jumping',\n",
       " 'Stamina',\n",
       " 'Strength',\n",
       " 'LongShots',\n",
       " 'Aggression',\n",
       " 'Interceptions',\n",
       " 'Positioning',\n",
       " 'Vision',\n",
       " 'Penalties',\n",
       " 'Composure',\n",
       " 'Marking',\n",
       " 'StandingTackle',\n",
       " 'SlidingTackle',\n",
       " 'GKDiving',\n",
       " 'GKHandling',\n",
       " 'GKKicking',\n",
       " 'GKPositioning',\n",
       " 'GKReflexes',\n",
       " 'Release Clause']"
      ]
     },
     "execution_count": 11,
     "metadata": {},
     "output_type": "execute_result"
    }
   ],
   "source": [
    "df.columns.values.tolist()\n",
    "\n"
   ]
  },
  {
   "cell_type": "code",
   "execution_count": 22,
   "metadata": {},
   "outputs": [
    {
     "data": {
      "text/plain": [
       "Unnamed: 0                      0\n",
       "ID                              0\n",
       "Name                            0\n",
       "Age                             0\n",
       "Photo                           0\n",
       "Nationality                     0\n",
       "Flag                            0\n",
       "Overall                         0\n",
       "Potential                       0\n",
       "Club                          241\n",
       "Club Logo                       0\n",
       "Value                           0\n",
       "Wage                            0\n",
       "Special                         0\n",
       "Preferred Foot                 48\n",
       "International Reputation       48\n",
       "Weak Foot                      48\n",
       "Skill Moves                    48\n",
       "Work Rate                      48\n",
       "Body Type                      48\n",
       "Real Face                      48\n",
       "Position                       60\n",
       "Jersey Number                  60\n",
       "Joined                       1553\n",
       "Loaned From                 16943\n",
       "Contract Valid Until          289\n",
       "Height                         48\n",
       "Weight                         48\n",
       "LS                           2085\n",
       "ST                           2085\n",
       "                            ...  \n",
       "Dribbling                      48\n",
       "Curve                          48\n",
       "FKAccuracy                     48\n",
       "LongPassing                    48\n",
       "BallControl                    48\n",
       "Acceleration                   48\n",
       "SprintSpeed                    48\n",
       "Agility                        48\n",
       "Reactions                      48\n",
       "Balance                        48\n",
       "ShotPower                      48\n",
       "Jumping                        48\n",
       "Stamina                        48\n",
       "Strength                       48\n",
       "LongShots                      48\n",
       "Aggression                     48\n",
       "Interceptions                  48\n",
       "Positioning                    48\n",
       "Vision                         48\n",
       "Penalties                      48\n",
       "Composure                      48\n",
       "Marking                        48\n",
       "StandingTackle                 48\n",
       "SlidingTackle                  48\n",
       "GKDiving                       48\n",
       "GKHandling                     48\n",
       "GKKicking                      48\n",
       "GKPositioning                  48\n",
       "GKReflexes                     48\n",
       "Release Clause               1564\n",
       "Length: 89, dtype: int64"
      ]
     },
     "execution_count": 22,
     "metadata": {},
     "output_type": "execute_result"
    }
   ],
   "source": [
    "df.isna().sum()"
   ]
  },
  {
   "cell_type": "code",
   "execution_count": 35,
   "metadata": {},
   "outputs": [],
   "source": [
    "atts = df.iloc[:,54:83]"
   ]
  },
  {
   "cell_type": "code",
   "execution_count": 36,
   "metadata": {},
   "outputs": [],
   "source": [
    "atts = pd.concat([atts,df[\"Potential\"]],axis=1)"
   ]
  },
  {
   "cell_type": "code",
   "execution_count": 37,
   "metadata": {},
   "outputs": [],
   "source": [
    "atts = pd.concat([atts,df[\"Overall\"]],axis=1)"
   ]
  },
  {
   "cell_type": "code",
   "execution_count": 39,
   "metadata": {},
   "outputs": [
    {
     "data": {
      "text/plain": [
       "Crossing           float64\n",
       "Finishing          float64\n",
       "HeadingAccuracy    float64\n",
       "ShortPassing       float64\n",
       "Volleys            float64\n",
       "Dribbling          float64\n",
       "Curve              float64\n",
       "FKAccuracy         float64\n",
       "LongPassing        float64\n",
       "BallControl        float64\n",
       "Acceleration       float64\n",
       "SprintSpeed        float64\n",
       "Agility            float64\n",
       "Reactions          float64\n",
       "Balance            float64\n",
       "ShotPower          float64\n",
       "Jumping            float64\n",
       "Stamina            float64\n",
       "Strength           float64\n",
       "LongShots          float64\n",
       "Aggression         float64\n",
       "Interceptions      float64\n",
       "Positioning        float64\n",
       "Vision             float64\n",
       "Penalties          float64\n",
       "Composure          float64\n",
       "Marking            float64\n",
       "StandingTackle     float64\n",
       "SlidingTackle      float64\n",
       "Potential            int64\n",
       "Overall              int64\n",
       "dtype: object"
      ]
     },
     "execution_count": 39,
     "metadata": {},
     "output_type": "execute_result"
    }
   ],
   "source": [
    "atts.dtypes"
   ]
  },
  {
   "cell_type": "code",
   "execution_count": 40,
   "metadata": {},
   "outputs": [],
   "source": [
    "#Workrate must also be considered"
   ]
  },
  {
   "cell_type": "code",
   "execution_count": 41,
   "metadata": {},
   "outputs": [
    {
     "data": {
      "text/plain": [
       "array(['Medium/ Medium', 'High/ Low', 'High/ Medium', ...,\n",
       "       'Medium/ Medium', 'Medium/ Medium', 'Medium/ Medium'], dtype=object)"
      ]
     },
     "execution_count": 41,
     "metadata": {},
     "output_type": "execute_result"
    }
   ],
   "source": [
    "df[\"Work Rate\"].values"
   ]
  },
  {
   "cell_type": "code",
   "execution_count": 42,
   "metadata": {},
   "outputs": [],
   "source": [
    "df[\"Work Rate\"] = df[\"Work Rate\"].str.get_dummies(sep=\"/\")"
   ]
  },
  {
   "cell_type": "code",
   "execution_count": 44,
   "metadata": {},
   "outputs": [
    {
     "data": {
      "text/plain": [
       "[0, 1]"
      ]
     },
     "execution_count": 44,
     "metadata": {},
     "output_type": "execute_result"
    }
   ],
   "source": [
    "list(set(df[\"Work Rate\"].values))"
   ]
  },
  {
   "cell_type": "code",
   "execution_count": 45,
   "metadata": {},
   "outputs": [],
   "source": [
    "atts = pd.concat([atts,df[\"Work Rate\"]],axis=1)"
   ]
  },
  {
   "cell_type": "code",
   "execution_count": 46,
   "metadata": {},
   "outputs": [
    {
     "data": {
      "text/plain": [
       "Index(['Crossing', 'Finishing', 'HeadingAccuracy', 'ShortPassing', 'Volleys',\n",
       "       'Dribbling', 'Curve', 'FKAccuracy', 'LongPassing', 'BallControl',\n",
       "       'Acceleration', 'SprintSpeed', 'Agility', 'Reactions', 'Balance',\n",
       "       'ShotPower', 'Jumping', 'Stamina', 'Strength', 'LongShots',\n",
       "       'Aggression', 'Interceptions', 'Positioning', 'Vision', 'Penalties',\n",
       "       'Composure', 'Marking', 'StandingTackle', 'SlidingTackle', 'Potential',\n",
       "       'Overall', 'Work Rate'],\n",
       "      dtype='object')"
      ]
     },
     "execution_count": 46,
     "metadata": {},
     "output_type": "execute_result"
    }
   ],
   "source": [
    "atts.columns"
   ]
  },
  {
   "cell_type": "code",
   "execution_count": 64,
   "metadata": {},
   "outputs": [],
   "source": [
    "df2 = atts\n",
    "atts = atts.dropna()\n",
    "df2 = df2.dropna()\n",
    "df2[\"Name\"] = df[\"Name\"]\n"
   ]
  },
  {
   "cell_type": "code",
   "execution_count": 65,
   "metadata": {},
   "outputs": [],
   "source": [
    "#Transforming\n"
   ]
  },
  {
   "cell_type": "code",
   "execution_count": 66,
   "metadata": {},
   "outputs": [],
   "source": [
    "from sklearn.preprocessing import StandardScaler\n",
    "from sklearn.neighbors import NearestNeighbors\n",
    "from sklearn.decomposition import PCA\n",
    "from sklearn.exceptions import DataConversionWarning\n",
    "\n",
    "import warnings\n",
    "warnings.filterwarnings(action=\"ignore\",category=DataConversionWarning)"
   ]
  },
  {
   "cell_type": "code",
   "execution_count": 67,
   "metadata": {},
   "outputs": [],
   "source": [
    "scaled = StandardScaler()\n",
    "X = scaled.fit_transform(atts)"
   ]
  },
  {
   "cell_type": "code",
   "execution_count": 68,
   "metadata": {},
   "outputs": [
    {
     "data": {
      "text/plain": [
       "array([[ 1.86592159,  2.53256708,  1.01855213, ...,  3.69741542,\n",
       "         4.01336435, -0.45759219],\n",
       "       [ 1.86592159,  2.48135144,  2.11179856, ...,  3.69741542,\n",
       "         4.01336435, -0.45759219],\n",
       "       [ 1.59365003,  2.12284191,  0.55823785, ...,  3.53439634,\n",
       "         3.72411387, -0.45759219],\n",
       "       ...,\n",
       "       [-1.34688284, -0.28429352, -0.36239071, ..., -0.70409989,\n",
       "        -2.78402193, -0.45759219],\n",
       "       [-0.3122509 ,  0.22786295, -0.76516571, ..., -0.86711898,\n",
       "        -2.78402193, -0.45759219],\n",
       "       [-0.47561384, -0.5915874 , -0.36239071, ..., -0.86711898,\n",
       "        -2.92864717, -0.45759219]])"
      ]
     },
     "execution_count": 68,
     "metadata": {},
     "output_type": "execute_result"
    }
   ],
   "source": [
    "X\n"
   ]
  },
  {
   "cell_type": "code",
   "execution_count": 69,
   "metadata": {},
   "outputs": [],
   "source": [
    "recommendations = NearestNeighbors(n_neighbors=6,algorithm='ball_tree').fit(X)"
   ]
  },
  {
   "cell_type": "code",
   "execution_count": 77,
   "metadata": {},
   "outputs": [],
   "source": [
    "player_indices = recommendations.kneighbors(X)[1]\n",
    "\n",
    "def get_idx(x):\n",
    "    return df2[df2[\"Name\"]==x].index.tolist()[0]\n",
    "\n",
    "def recommend_player(player):\n",
    "    print(\"Players similar to \",player,\"are\")\n",
    "    print(\"\")\n",
    "    index = get_idx(player)\n",
    "    for i in player_indices[index][1:]:\n",
    "        try:\n",
    "            print(df2.iloc[i][\"Name\"],\"\\n\")\n",
    "        except IndexError:\n",
    "            continue\n"
   ]
  },
  {
   "cell_type": "code",
   "execution_count": 78,
   "metadata": {},
   "outputs": [
    {
     "name": "stdout",
     "output_type": "stream",
     "text": [
      "Players similar to  L. Messi are\n",
      "\n",
      "Neymar Jr \n",
      "\n",
      "E. Hazard \n",
      "\n",
      "P. Dybala \n",
      "\n",
      "S. Agüero \n",
      "\n",
      "K. Mbappé \n",
      "\n"
     ]
    }
   ],
   "source": [
    "recommend_player(\"L. Messi\")"
   ]
  },
  {
   "cell_type": "code",
   "execution_count": 79,
   "metadata": {},
   "outputs": [
    {
     "data": {
      "text/plain": [
       "array(['L. Messi', 'Cristiano Ronaldo', 'Neymar Jr', ..., 'B. Worman',\n",
       "       'D. Walker-Rice', 'G. Nugent'], dtype=object)"
      ]
     },
     "execution_count": 79,
     "metadata": {},
     "output_type": "execute_result"
    }
   ],
   "source": [
    "df2.Name.values"
   ]
  },
  {
   "cell_type": "code",
   "execution_count": 80,
   "metadata": {},
   "outputs": [
    {
     "name": "stdout",
     "output_type": "stream",
     "text": [
      "Players similar to  Cristiano Ronaldo are\n",
      "\n",
      "S. Agüero \n",
      "\n",
      "R. Lewandowski \n",
      "\n",
      "K. Mbappé \n",
      "\n",
      "P. Aubameyang \n",
      "\n",
      "P. Dybala \n",
      "\n"
     ]
    }
   ],
   "source": [
    "recommend_player(\"Cristiano Ronaldo\")"
   ]
  },
  {
   "cell_type": "code",
   "execution_count": 81,
   "metadata": {},
   "outputs": [
    {
     "name": "stdout",
     "output_type": "stream",
     "text": [
      "Players similar to  B. Worman are\n",
      "\n"
     ]
    },
    {
     "ename": "IndexError",
     "evalue": "index 18204 is out of bounds for axis 0 with size 18159",
     "output_type": "error",
     "traceback": [
      "\u001b[1;31m---------------------------------------------------------------------------\u001b[0m",
      "\u001b[1;31mIndexError\u001b[0m                                Traceback (most recent call last)",
      "\u001b[1;32m<ipython-input-81-b01e278ad758>\u001b[0m in \u001b[0;36m<module>\u001b[1;34m()\u001b[0m\n\u001b[1;32m----> 1\u001b[1;33m \u001b[0mrecommend_player\u001b[0m\u001b[1;33m(\u001b[0m\u001b[1;34m\"B. Worman\"\u001b[0m\u001b[1;33m)\u001b[0m\u001b[1;33m\u001b[0m\u001b[0m\n\u001b[0m",
      "\u001b[1;32m<ipython-input-77-9e088ef7a986>\u001b[0m in \u001b[0;36mrecommend_player\u001b[1;34m(player)\u001b[0m\n\u001b[0;32m      8\u001b[0m     \u001b[0mprint\u001b[0m\u001b[1;33m(\u001b[0m\u001b[1;34m\"\"\u001b[0m\u001b[1;33m)\u001b[0m\u001b[1;33m\u001b[0m\u001b[0m\n\u001b[0;32m      9\u001b[0m     \u001b[0mindex\u001b[0m \u001b[1;33m=\u001b[0m \u001b[0mget_idx\u001b[0m\u001b[1;33m(\u001b[0m\u001b[0mplayer\u001b[0m\u001b[1;33m)\u001b[0m\u001b[1;33m\u001b[0m\u001b[0m\n\u001b[1;32m---> 10\u001b[1;33m     \u001b[1;32mfor\u001b[0m \u001b[0mi\u001b[0m \u001b[1;32min\u001b[0m \u001b[0mplayer_indices\u001b[0m\u001b[1;33m[\u001b[0m\u001b[0mindex\u001b[0m\u001b[1;33m]\u001b[0m\u001b[1;33m[\u001b[0m\u001b[1;36m1\u001b[0m\u001b[1;33m:\u001b[0m\u001b[1;33m]\u001b[0m\u001b[1;33m:\u001b[0m\u001b[1;33m\u001b[0m\u001b[0m\n\u001b[0m\u001b[0;32m     11\u001b[0m         \u001b[1;32mtry\u001b[0m\u001b[1;33m:\u001b[0m\u001b[1;33m\u001b[0m\u001b[0m\n\u001b[0;32m     12\u001b[0m             \u001b[0mprint\u001b[0m\u001b[1;33m(\u001b[0m\u001b[0mdf2\u001b[0m\u001b[1;33m.\u001b[0m\u001b[0miloc\u001b[0m\u001b[1;33m[\u001b[0m\u001b[0mi\u001b[0m\u001b[1;33m]\u001b[0m\u001b[1;33m[\u001b[0m\u001b[1;34m\"Name\"\u001b[0m\u001b[1;33m]\u001b[0m\u001b[1;33m,\u001b[0m\u001b[1;34m\"\\n\"\u001b[0m\u001b[1;33m)\u001b[0m\u001b[1;33m\u001b[0m\u001b[0m\n",
      "\u001b[1;31mIndexError\u001b[0m: index 18204 is out of bounds for axis 0 with size 18159"
     ]
    }
   ],
   "source": [
    "recommend_player(\"B. Worman\")"
   ]
  },
  {
   "cell_type": "code",
   "execution_count": null,
   "metadata": {},
   "outputs": [],
   "source": []
  }
 ],
 "metadata": {
  "kernelspec": {
   "display_name": "Python 3",
   "language": "python",
   "name": "python3"
  },
  "language_info": {
   "codemirror_mode": {
    "name": "ipython",
    "version": 3
   },
   "file_extension": ".py",
   "mimetype": "text/x-python",
   "name": "python",
   "nbconvert_exporter": "python",
   "pygments_lexer": "ipython3",
   "version": "3.7.0"
  }
 },
 "nbformat": 4,
 "nbformat_minor": 2
}
